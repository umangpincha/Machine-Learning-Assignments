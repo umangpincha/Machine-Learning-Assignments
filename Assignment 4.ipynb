{
 "cells": [
  {
   "cell_type": "markdown",
   "metadata": {},
   "source": [
    "# <h1><center><u><b><i>ASSIGNMENT 4</i></b></u> </center></h1>"
   ]
  },
  {
   "cell_type": "markdown",
   "metadata": {},
   "source": [
    "# Ans 1.1"
   ]
  },
  {
   "cell_type": "code",
   "execution_count": 2,
   "metadata": {},
   "outputs": [
    {
     "name": "stdout",
     "output_type": "stream",
     "text": [
      "Enter First Side :5\n",
      "Enter second Side :6\n",
      "Enter third Side :7\n",
      "Area of Triangle is 14.70 \n"
     ]
    }
   ],
   "source": [
    "class Area:\n",
    "    def Traingle_length(self):\n",
    "        self.a= int(input(\"Enter First Side :\"))\n",
    "        self.b= int(input(\"Enter second Side :\"))\n",
    "        self.c =int(input(\"Enter third Side :\"))\n",
    "        \n",
    "\n",
    "class Calculation_area(Area):\n",
    "    def Area_calculation(self):\n",
    "        self.s = (self.a + self.b + self.c) / 2\n",
    "        self.area = (self.s*(self.s-self.a)*(self.s-self.b)*(self.s-self.c)) ** 0.5\n",
    "        print('Area of Triangle is %0.2f ' %self.area)\n",
    "obj=Calculation_area()\n",
    "get_length = obj.Traingle_length()\n",
    "get_area = obj.Area_calculation()"
   ]
  },
  {
   "cell_type": "markdown",
   "metadata": {},
   "source": [
    "# Ans 1.2"
   ]
  },
  {
   "cell_type": "code",
   "execution_count": 15,
   "metadata": {},
   "outputs": [
    {
     "name": "stdout",
     "output_type": "stream",
     "text": [
      "['pincha', '18MCA0016']\n"
     ]
    }
   ],
   "source": [
    "empty_list = []\n",
    "def filter_long_words(words,n):\n",
    "    for i in range(len(words)):\n",
    "        if len(words[i])>n:\n",
    "            empty_list.append(words[i])\n",
    "    print(empty_list)\n",
    "           \n",
    "    \n",
    "\n",
    "    \n",
    "words=['umang' , 'pincha' , '18MCA0016']\n",
    "n=5\n",
    "filter_long_words(words,n)"
   ]
  },
  {
   "cell_type": "markdown",
   "metadata": {},
   "source": [
    "# Ans 2.1"
   ]
  },
  {
   "cell_type": "code",
   "execution_count": 17,
   "metadata": {},
   "outputs": [
    {
     "name": "stdout",
     "output_type": "stream",
     "text": [
      "[2, 3, 4]\n"
     ]
    }
   ],
   "source": [
    "empty_list=[]\n",
    "def My_filter(my_list):\n",
    "    for i in range(len(my_list)):\n",
    "        empty_list.append(len(my_list[i]))\n",
    "        \n",
    "    print(empty_list)\n",
    "    \n",
    "    \n",
    "    \n",
    "my_list=['ab','cde','erty']\n",
    "My_filter(my_list)"
   ]
  },
  {
   "cell_type": "markdown",
   "metadata": {},
   "source": [
    "# 2.2"
   ]
  },
  {
   "cell_type": "code",
   "execution_count": 30,
   "metadata": {},
   "outputs": [
    {
     "name": "stdout",
     "output_type": "stream",
     "text": [
      "Not a vowel\n"
     ]
    }
   ],
   "source": [
    "def Check_vowel(ch):\n",
    "    if(ch=='A' or ch=='a' or ch=='E' or ch =='e' or ch=='I'\n",
    " or ch=='i' or ch=='O' or ch=='o' or ch=='U' or ch=='u'):\n",
    "        return True\n",
    "    else:\n",
    "        return False\n",
    "    \n",
    "    \n",
    "ch='z'\n",
    "result= Check_vowel(my_string)\n",
    "if result:\n",
    "    print(\"Vowel\")\n",
    "else:\n",
    "    print(\"Not a vowel\")"
   ]
  },
  {
   "cell_type": "code",
   "execution_count": null,
   "metadata": {},
   "outputs": [],
   "source": []
  }
 ],
 "metadata": {
  "kernelspec": {
   "display_name": "Python 3",
   "language": "python",
   "name": "python3"
  },
  "language_info": {
   "codemirror_mode": {
    "name": "ipython",
    "version": 3
   },
   "file_extension": ".py",
   "mimetype": "text/x-python",
   "name": "python",
   "nbconvert_exporter": "python",
   "pygments_lexer": "ipython3",
   "version": "3.7.3"
  }
 },
 "nbformat": 4,
 "nbformat_minor": 2
}
