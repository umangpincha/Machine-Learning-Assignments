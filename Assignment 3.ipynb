{
 "cells": [
  {
   "cell_type": "markdown",
   "metadata": {},
   "source": [
    "# <center><h1>ASSIGNMENT 3 </h1></center>"
   ]
  },
  {
   "cell_type": "markdown",
   "metadata": {},
   "source": [
    "# Ans 1.1"
   ]
  },
  {
   "cell_type": "code",
   "execution_count": 1,
   "metadata": {},
   "outputs": [
    {
     "name": "stdout",
     "output_type": "stream",
     "text": [
      "10\n"
     ]
    }
   ],
   "source": [
    "def myreduce(myfunc , my_list):\n",
    "    store = my_list[0]\n",
    "    for i in my_list[1:]:\n",
    "        store+=i\n",
    "    return store\n",
    "    \n",
    "print(myreduce(lambda a,b:a+b,[1,2,3,4]))"
   ]
  },
  {
   "cell_type": "markdown",
   "metadata": {},
   "source": [
    "# Ans 1.2"
   ]
  },
  {
   "cell_type": "code",
   "execution_count": 10,
   "metadata": {},
   "outputs": [
    {
     "name": "stdout",
     "output_type": "stream",
     "text": [
      "2  4  6  8  "
     ]
    }
   ],
   "source": [
    "def myfilter(myfunc , my_list):\n",
    "    for i in my_list:\n",
    "        if i%2==0:\n",
    "            print(i,\" \" ,end='')\n",
    "        \n",
    "    \n",
    "myfilter(lambda x:x%2==0 , [1,2,3,4,5,6,8])"
   ]
  },
  {
   "cell_type": "markdown",
   "metadata": {},
   "source": [
    "# Ans 2"
   ]
  },
  {
   "cell_type": "code",
   "execution_count": 36,
   "metadata": {},
   "outputs": [
    {
     "name": "stdout",
     "output_type": "stream",
     "text": [
      "['x', 'xx', 'xxx', 'xxxx', 'y', 'yy', 'yyy', 'yyyy', 'z', 'zz', 'zzz', 'zzzz']\n",
      "\n",
      "['x', 'y', 'z', 'xx', 'yy', 'zz', 'xxx', 'yyy', 'zzz', 'xxxx', 'yyyy', 'zzzz']\n",
      "\n",
      "[[2], [3], [4], [3], [4], [5], [4], [5], [6]]\n",
      "\n",
      "[[2, 3, 4, 5], [3, 4, 5, 6], [4, 5, 6, 7], [5, 6, 7, 8]]\n",
      "\n",
      "[(1, 1), (2, 1), (3, 1), (1, 2), (2, 2), (3, 2), (1, 3), (2, 3), (3, 3)]\n"
     ]
    }
   ],
   "source": [
    "my_list1 = ['x','y','z']\n",
    "empty_list1 = []\n",
    "for i in my_list1:\n",
    "    for j in range(1,5):\n",
    "        final=i*j\n",
    "        empty_list1.append(final)\n",
    "print(empty_list1)\n",
    "print('')\n",
    "#----------------------------------------------------------------------\n",
    "empty_list2 = []\n",
    "for k in range(1,5):\n",
    "    for l in my_list1:\n",
    "        iteam = k*l\n",
    "        empty_list2.append(iteam)\n",
    "print(empty_list2)\n",
    "print('')\n",
    "#----------------------------------------------------------------------\n",
    "my_list2 = [2,3,4]\n",
    "empty_list3=[]\n",
    "for m in my_list2:\n",
    "    for n in range(0,3):\n",
    "        my_sum = m+n\n",
    "        empty_list3.append([my_sum])\n",
    "print(empty_list3)\n",
    "print('')\n",
    "my_list3 = [2,3,4,5]\n",
    "#----------------------------------------------------------------------\n",
    "print([[o + p for o in my_list3] for p in range(0,4)] )\n",
    "print('')\n",
    "#----------------------------------------------------------------------\n",
    "my_list4 = [1,2,3]\n",
    "empty_list5=[]\n",
    "for q in my_list4:\n",
    "    for r in my_list4:\n",
    "        empty_list5.append((r,q))\n",
    "print(empty_list5)\n"
   ]
  },
  {
   "cell_type": "code",
   "execution_count": null,
   "metadata": {},
   "outputs": [],
   "source": []
  }
 ],
 "metadata": {
  "kernelspec": {
   "display_name": "Python 3",
   "language": "python",
   "name": "python3"
  },
  "language_info": {
   "codemirror_mode": {
    "name": "ipython",
    "version": 3
   },
   "file_extension": ".py",
   "mimetype": "text/x-python",
   "name": "python",
   "nbconvert_exporter": "python",
   "pygments_lexer": "ipython3",
   "version": "3.7.3"
  }
 },
 "nbformat": 4,
 "nbformat_minor": 2
}
